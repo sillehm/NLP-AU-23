{
 "cells": [
  {
   "cell_type": "markdown",
   "metadata": {},
   "source": [
    "# Classroom 8 - Text Generation with HuggingFace transformers"
   ]
  },
  {
   "cell_type": "markdown",
   "metadata": {},
   "source": [
    "In this class, we'll look at how we can easily use HuggingFace Transformers for both text generation and for text-to-text models like T5. As with many tasks, Huggingface makes the basic aspects of text generation extremely simple to implement.\n",
    "You can read about HuggingFace's text generation pipelines [here](https://huggingface.co/tasks/text-generation)."
   ]
  },
  {
   "cell_type": "code",
   "execution_count": null,
   "metadata": {},
   "outputs": [],
   "source": [
    "!pip install transformers torch"
   ]
  },
  {
   "cell_type": "markdown",
   "metadata": {},
   "source": [
    "## Text completion \n",
    "AKA: forward/causal/autoregressive language modeling."
   ]
  },
  {
   "cell_type": "markdown",
   "metadata": {},
   "source": [
    "Let's start playing with language generation in HuggingFace. I have created a template for language generation, and the goal for today is to explore how we can use NLG models through HuggingFace, and how some of the notions we have talked about in the lecture (e.g., decoding algorithms, task-specific instructions for NLG tasks etc) are implemented in this framework. As you go through this notebook, make sure you spend some time familiarizing with HuggingFace's documentation and model hub.\n",
    "\n",
    "You can find a full range of models which are available for text generation via the Huggingface model zoo [here](https://huggingface.co/models?pipeline_tag=text-generation).\n",
    "\n",
    "Try experimenting with some of the following model architectures:\n",
    "- GPT-J / GPT2\n",
    "- BigScience BLOOM (e.g., BLOOM-560m)\n",
    "- T5 / FlanT5 (a multi-task version of T5)\n",
    "- Falcon (take a look at https://huggingface.co/tiiuae/falcon-7b and https://huggingface.co/tiiuae/falcon-7b-instruct)\n",
    "\n",
    "__Questions__\n",
    "- Look at the model documentation: how are each of these models trained?\n",
    "- Do some models perform better than others? Do you notice any patterns in their behavior?\n",
    "- How much of an impact does scale make on compute?"
   ]
  },
  {
   "cell_type": "code",
   "execution_count": null,
   "metadata": {},
   "outputs": [],
   "source": [
    "from transformers import pipeline\n",
    "generator = pipeline('text-generation', model = 'gpt2')"
   ]
  },
  {
   "cell_type": "markdown",
   "metadata": {},
   "source": [
    "We give the model a text prompt, define the max length of tokens, and how many examples we want to be generated:"
   ]
  },
  {
   "cell_type": "code",
   "execution_count": null,
   "metadata": {},
   "outputs": [],
   "source": [
    "outputs = generator(\"there was a time where \", \n",
    "                    max_length=50, do_sample=False)"
   ]
  },
  {
   "cell_type": "markdown",
   "metadata": {},
   "source": [
    "The outputs are then returned as a list of dictionaries:"
   ]
  },
  {
   "cell_type": "code",
   "execution_count": null,
   "metadata": {},
   "outputs": [],
   "source": [
    "outputs"
   ]
  },
  {
   "cell_type": "markdown",
   "metadata": {},
   "source": [
    "And we can index specific examples like this:"
   ]
  },
  {
   "cell_type": "code",
   "execution_count": null,
   "metadata": {},
   "outputs": [],
   "source": [
    "outputs[0].get(\"generated_text\")\n"
   ]
  },
  {
   "cell_type": "markdown",
   "metadata": {},
   "source": [
    "**Question**: try to play with these models and with the inputs you are passing them to highlight the limitations of these models. Can you hack the models to generate linguistically, factually, or ethically debatable behavior?"
   ]
  },
  {
   "cell_type": "markdown",
   "metadata": {},
   "source": [
    "## Decoding parameters"
   ]
  },
  {
   "cell_type": "markdown",
   "metadata": {},
   "source": [
    "In our lecture, we have discussed different decoding strategies, and how they may change the characteristics of the text you generate. Our text generation pipeline does greedy decoding if `do_sample` is set to False. What happens if we modulate the decoding strategy? Pick your favorite model, and try to explore what happens if you modify decoding strategies by passing relevant arguments to `generator`.\n",
    "\n",
    "NOTE: take a look at this post: https://huggingface.co/blog/how-to-generate to see how these arguments look like, and what strategies they map into. The `textgeneration` pipeline uses `model.generate` under the hood, and the same arguments passed to `model.generate` can be passed to the pipeline."
   ]
  },
  {
   "cell_type": "code",
   "execution_count": null,
   "metadata": {},
   "outputs": [],
   "source": [
    "### TODO: add your code here"
   ]
  },
  {
   "cell_type": "markdown",
   "metadata": {},
   "source": [
    "## Text summarization\n",
    "Yesterday, we saw how language modeling is the mechanisms that lies behind all natural language generation task. Let's move beyond simple prompt completion, and see how well our models can perform specific language generation tasks.\n",
    "\n",
    "Summarization is the prototype text-to-text task, where we are taking an input sequence and trying to train model to accurately produce a summary of the contents. Again, with Huggingface, it's easy to experiment with exisitng text summarization models. Check out their overview [here](https://huggingface.co/tasks/summarization).\n",
    "\n",
    "Once more, check out the model zoo for existing models which have been explicitly finetuned for text summarization tasks [here](https://huggingface.co/models?filter=summarization).\n",
    "\n",
    "We will use a HuggingFace pipeline for text2text generation. Note that HuggingFace also has a `summarization` pipeline, which is nothing but a subclass of the text2text generation pipeline.\n",
    "\n",
    "Here, we start by experimenting with T5 (because we have talked about it in the lecture), but feel free to play with different models. **Note**: you may need to use slightly different instruction prompts for different models.\n",
    "\n",
    "__Questions__\n",
    "- What do you think of the summaries?\n",
    "- Go to the model hub, and try to find some models that are specifically tuned on summarization. How does the performance of models compare based on whether they are fine-tuned on summarization specifically / what they are fine-tuned on (single task? multiple tasks?)?\n",
    "- Change your task prefix to perform other text2text generation tasks (e.g., classification, translation, etc)"
   ]
  },
  {
   "cell_type": "code",
   "execution_count": null,
   "metadata": {},
   "outputs": [],
   "source": [
    "from transformers import pipeline\n",
    "\n",
    "summarizer = pipeline(\"text2text-generation\", model = \"t5-base\") "
   ]
  },
  {
   "cell_type": "markdown",
   "metadata": {},
   "source": [
    "We then define a text that we want to summarise. This is the first part of a recent news article in The Guardian - feel free to change this to whatever you want!"
   ]
  },
  {
   "cell_type": "code",
   "execution_count": null,
   "metadata": {},
   "outputs": [],
   "source": [
    "text = \"\"\"summarize: Forest conservation and restoration could make a major contribution to tackling the climate crisis as long as greenhouse gas emissions are slashed, according to a study.\n",
    "\n",
    "By allowing existing trees to grow old in healthy ecosystems and restoring degraded areas, scientists say 226 gigatonnes of carbon could be sequestered, equivalent to nearly 50 years of US emissions for 2022. But they caution that mass monoculture tree-planting and offsetting will not help forests realise their potential.\n",
    "\n",
    "Humans have cleared about half of Earth’s forests and continue to destroy places such as the Amazon rainforest and the Congo basin that play crucial roles in regulating the planet’s atmosphere.\n",
    "\"\"\""
   ]
  },
  {
   "cell_type": "markdown",
   "metadata": {},
   "source": [
    "As before, generate out summaries using the ```summarizer``` we defined above, which returns a list of dictionaries:"
   ]
  },
  {
   "cell_type": "code",
   "execution_count": null,
   "metadata": {},
   "outputs": [],
   "source": [
    "summary = summarizer(text, max_length=100)"
   ]
  },
  {
   "cell_type": "markdown",
   "metadata": {},
   "source": [
    "And we can get just the summary text:"
   ]
  },
  {
   "cell_type": "code",
   "execution_count": null,
   "metadata": {},
   "outputs": [],
   "source": [
    "summary[0].get(\"generated_text\") # summary_text"
   ]
  },
  {
   "cell_type": "markdown",
   "metadata": {},
   "source": [
    "__Note__\n",
    "\n",
    "Here we are only using pretrained models to generate or summarize text. We haven't looked at, for example, how we might train or finetune models on specific tasks.\n",
    "\n",
    "If you want to dig into that in a bit more detail, HuggingFace offer many high-quality walkthroughs via [their public Github repo](https://github.com/huggingface/transformers).\n",
    "\n",
    "In particular, check out the directory called [Notebooks](https://github.com/huggingface/transformers/tree/main/notebooks) and also the one called [Examples](https://github.com/huggingface/transformers/tree/main/examples). The former are more pedagogical and explain things step-by-step; the latter are more advanced examples of how to fine-tune models effectively. \n",
    "\n",
    "We will mention a couple of additional tricks for efficient model fine-tuning next week!"
   ]
  }
 ],
 "metadata": {
  "kernelspec": {
   "display_name": "Python 3.9.13 64-bit",
   "language": "python",
   "name": "python3"
  },
  "language_info": {
   "codemirror_mode": {
    "name": "ipython",
    "version": 3
   },
   "file_extension": ".py",
   "mimetype": "text/x-python",
   "name": "python",
   "nbconvert_exporter": "python",
   "pygments_lexer": "ipython3",
   "version": "3.11.2"
  },
  "orig_nbformat": 4,
  "vscode": {
   "interpreter": {
    "hash": "397704579725e15f5c7cb49fe5f0341eb7531c82d19f2c29d197e8b64ab5776b"
   }
  }
 },
 "nbformat": 4,
 "nbformat_minor": 2
}
