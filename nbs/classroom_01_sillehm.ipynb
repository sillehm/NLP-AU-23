{
 "cells": [
  {
   "cell_type": "markdown",
   "metadata": {},
   "source": [
    "#### Part 3: Warm-up exercises\n",
    "What follows is a few exercises to get back in shape with Python syntax, especially for what concerns simple string manipulation."
   ]
  },
  {
   "cell_type": "markdown",
   "metadata": {},
   "source": [
    "#### String concatenation\n",
    "Write a function that takes two strings as input, and returns a concatenated string (the second string is appended to the end of the first one)."
   ]
  },
  {
   "cell_type": "code",
   "execution_count": 2,
   "metadata": {},
   "outputs": [],
   "source": [
    "def concat_two_strings(a,b):\n",
    "    c = a + b\n",
    "    return c\n"
   ]
  },
  {
   "cell_type": "code",
   "execution_count": 3,
   "metadata": {},
   "outputs": [
    {
     "name": "stdout",
     "output_type": "stream",
     "text": [
      "anja og sille\n"
     ]
    }
   ],
   "source": [
    "a = \"anja \"\n",
    "b = \"og sille\"\n",
    "\n",
    "c = concat_two_strings(a,b)\n",
    "print(c)"
   ]
  },
  {
   "cell_type": "markdown",
   "metadata": {},
   "source": [
    "Now write a function that can take any number of strings, and concatenate all of them. Hint: you can use a different data structure to pass the strings (e.g., an iterable), or use `*args` to pass any number of arguments to the function call."
   ]
  },
  {
   "cell_type": "code",
   "execution_count": 1,
   "metadata": {},
   "outputs": [],
   "source": [
    "def concat_any_string(*args):\n",
    "    string = \"\"\n",
    "\n",
    "    for i in args:\n",
    "        string += i\n",
    "\n",
    "    return string"
   ]
  },
  {
   "cell_type": "code",
   "execution_count": 2,
   "metadata": {},
   "outputs": [
    {
     "data": {
      "text/plain": [
       "'I would like some coffee!'"
      ]
     },
     "execution_count": 2,
     "metadata": {},
     "output_type": "execute_result"
    }
   ],
   "source": [
    "concat_any_string(\"I\", \" would\", \" like\", \" some\", \" coffee\", \"!\")"
   ]
  },
  {
   "cell_type": "markdown",
   "metadata": {},
   "source": [
    "#### Counting substrings\n",
    "Write a function that takes two inputs: \n",
    "- l, which is a single character;\n",
    "- s, which is a string. \n",
    "\n",
    "The function should return how many times l is contained in s (an integer)."
   ]
  },
  {
   "cell_type": "code",
   "execution_count": 14,
   "metadata": {},
   "outputs": [],
   "source": [
    "def letter_count(letter, string):\n",
    "    lower_s = string.lower()       # to prepare to count\n",
    "    c = 0                          # defining counter \n",
    "    for character in lower_s:\n",
    "        if character==1:\n",
    "            c =+1\n",
    "\n",
    "\n",
    "    return string.count(letter)"
   ]
  },
  {
   "cell_type": "code",
   "execution_count": 22,
   "metadata": {},
   "outputs": [
    {
     "data": {
      "text/plain": [
       "2"
      ]
     },
     "execution_count": 22,
     "metadata": {},
     "output_type": "execute_result"
    }
   ],
   "source": [
    "letter_count(\"a\",\"anja\")"
   ]
  },
  {
   "cell_type": "markdown",
   "metadata": {},
   "source": [
    "Can you make a function that generalizes to l being any sequence of characters (e.g., counting how many times the substring `ab` occurs)? \n",
    "Hint: you can do it in base python, or use functions (e.g., `findall`) from the regex package `re`."
   ]
  },
  {
   "cell_type": "code",
   "execution_count": 2,
   "metadata": {},
   "outputs": [
    {
     "name": "stdout",
     "output_type": "stream",
     "text": [
      "The substring 'it' occurs 2 times in the string.\n"
     ]
    }
   ],
   "source": [
    "import re\n",
    "\n",
    "def substring_count(characters, string):\n",
    "    occurrences = re.findall(characters, string)\n",
    "    return len(occurrences)\n",
    "\n",
    "# Example usage:\n",
    "string = \"Anja læser cognitivive science på Aarhus Universitet\"\n",
    "characters = \"it\"\n",
    "result = substring_count(characters, string)\n",
    "print(f\"The substring '{characters}' occurs {result} times in the string.\")"
   ]
  },
  {
   "cell_type": "markdown",
   "metadata": {},
   "source": [
    "Now edit the previous function to be able to return counts for multiple strings (make *l* an iterable, e.g., a list).\n",
    "The output should be a dictionary with keys *k* and values *v*, such that k are all elements of *l*, and *v* is the respective count."
   ]
  },
  {
   "cell_type": "code",
   "execution_count": 3,
   "metadata": {},
   "outputs": [],
   "source": [
    "\n",
    "def generalized_counter(characters, string):\n",
    "    counts = {}\n",
    "    \n",
    "    for character in characters:\n",
    "        occurrences = re.findall(character, string)\n",
    "        counts[character] = len(occurrences)\n",
    "    \n",
    "    return counts\n"
   ]
  },
  {
   "cell_type": "code",
   "execution_count": 4,
   "metadata": {},
   "outputs": [
    {
     "data": {
      "text/plain": [
       "{'ea': 2, 'ou': 2, 'pa': 1, 'i': 2, 'u': 3}"
      ]
     },
     "execution_count": 4,
     "metadata": {},
     "output_type": "execute_result"
    }
   ],
   "source": [
    "string = \"pasta is a great source of gluten when you eat it\"\n",
    "characters = [\"ea\", \"ou\", \"pa\", \"i\", \"u\"]\n",
    "generalized_counter(characters, string)"
   ]
  },
  {
   "cell_type": "markdown",
   "metadata": {},
   "source": [
    "#### Loading text files"
   ]
  },
  {
   "cell_type": "markdown",
   "metadata": {},
   "source": [
    "Loading a text file: the `data` folder contains a file called `book-war-and-peace.txt`.\n",
    "Use the functions `open` and `read` to read the file as a single string, and split it into a list of words, based on the presence of whitespaces.\n",
    "Once you have done this, try to use the function `readlines` instead: what does it do?"
   ]
  },
  {
   "cell_type": "code",
   "execution_count": 1,
   "metadata": {},
   "outputs": [
    {
     "name": "stdout",
     "output_type": "stream",
     "text": [
      "['I', '\"Well,', 'Prince,', 'so', 'Genoa']\n",
      "['CHAPTER I\\n', '\\n', '\"Well, Prince, so Genoa and Lucca are now just family estates of the\\n', \"Buonapartes. But I warn you, if you don't tell me that this means war,\\n\", 'if you still try to defend the infamies and horrors perpetrated by that\\n', 'Antichrist--I really believe he is Antichrist--I will have nothing more\\n']\n"
     ]
    }
   ],
   "source": [
    "# opening file, and reading content\n",
    "book_file = open(\"../data/book-war-and-peace.txt\", \"r\")\n",
    "book_content = book_file.read()\n",
    "\n",
    "book_words = book_content.split()\n",
    "print(book_words[1:6])\n",
    "\n",
    "# Reset the file pointer to the beginning of the file (to avoid empty list, because it will start readlines in the end of the document because it ends there with read())\n",
    "book_file.seek(0)\n",
    "\n",
    "# readlines\n",
    "book_lines = book_file.readlines()\n",
    "book_file.close()\n",
    "print(book_lines[0:6])"
   ]
  },
  {
   "cell_type": "markdown",
   "metadata": {},
   "source": [
    "#### Regular expressions"
   ]
  },
  {
   "cell_type": "markdown",
   "metadata": {},
   "source": [
    "After reading the file with `read`, replace all newlines (`\\n`) with whitespaces first, remove any sequences of multiple whitespaces, and then all alphanumeric characters (excluding spaces). Hint: you can use functions like `re.sub` to do so (here is a guide to regex patterns: https://docs.python.org/3/howto/regex.html)."
   ]
  },
  {
   "cell_type": "code",
   "execution_count": 10,
   "metadata": {},
   "outputs": [],
   "source": [
    "import re\n",
    "\n",
    "# Remove \\n\n",
    "book_clean = re.sub(\"\\n\", \" \", book_content)\n",
    "\n",
    "# remove multiple whitespaces\n",
    "book_clean = re.sub(\"\\s+\", \" \", book_content) # \\s for whitespace + for one or more instances\n",
    "# another way is to use + sign - any repeated instances of what comes before so space + any repeated spaces \n",
    "\n",
    "# remove non-alphanumeric characters\n",
    "book_clean = re.sub(\"[^a-zA-Z0-9\\s]\", \"\", book_content) #^ for characters not otherwise defined in the bracets\n",
    "# remember the + to find sequences of symbols we don't want\n",
    "\n"
   ]
  },
  {
   "cell_type": "markdown",
   "metadata": {},
   "source": [
    "Now lowercase this text, split by whitespace, and count the number of occurrences for each word. \n",
    "Hint: \n",
    "- import `Counter` (`from collections import Counter`) to extract counts;\n",
    "- transform the output of Counter into a dictionary (pass its output to `dict`)\n",
    "- import pandas as pass that to `pd.DataFrame.from_dict` (set `orient=index`)\n",
    "- Sort it using `sort_values`.\n",
    "\n",
    "\n",
    "Visualize the top 100 words: what do you notice?"
   ]
  },
  {
   "cell_type": "code",
   "execution_count": null,
   "metadata": {},
   "outputs": [],
   "source": [
    "# start by lowercasing and splitting on whitespace\n",
    "new_text = text_no_alphanumeric.lower()\n",
    "counts = dict(Counter(new_text.split())) # split is a list of words and counter is then used to counter the wordfs in the list \n",
    "# gives frequencies in dictionary like structure so explicitely convert to dict"
   ]
  },
  {
   "cell_type": "markdown",
   "metadata": {},
   "source": [
    "#### "
   ]
  },
  {
   "cell_type": "code",
   "execution_count": null,
   "metadata": {},
   "outputs": [],
   "source": [
    "# creating dataframe to plot\n",
    "import pandas as pd\n",
    "data = pd.DataFrame.from_dict(data=counts, \n",
    "                              orient='index').sort_values(by=0, # by first column\n",
    "                                                          ascending=False).reset_index() # new coulumn with index and a coulumn called index which is the words"
   ]
  }
 ],
 "metadata": {
  "kernelspec": {
   "display_name": "Python 3",
   "language": "python",
   "name": "python3"
  },
  "language_info": {
   "codemirror_mode": {
    "name": "ipython",
    "version": 3
   },
   "file_extension": ".py",
   "mimetype": "text/x-python",
   "name": "python",
   "nbconvert_exporter": "python",
   "pygments_lexer": "ipython3",
   "version": "3.10.12"
  },
  "orig_nbformat": 4
 },
 "nbformat": 4,
 "nbformat_minor": 2
}
